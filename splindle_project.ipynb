{
  "nbformat": 4,
  "nbformat_minor": 0,
  "metadata": {
    "colab": {
      "name": "splindle project.ipynb",
      "provenance": [],
      "collapsed_sections": [],
      "toc_visible": true
    },
    "kernelspec": {
      "name": "python3",
      "display_name": "Python 3"
    }
  },
  "cells": [
    {
      "cell_type": "markdown",
      "metadata": {
        "id": "1b-rmgsTYlxi",
        "colab_type": "text"
      },
      "source": [
        "#Build a decision tree algo \n",
        "we can build the decision tree from \n",
        "* Gini index \n",
        "* Information gain \n"
      ]
    },
    {
      "cell_type": "code",
      "metadata": {
        "id": "QuTE5pb1s0-Z",
        "colab_type": "code",
        "colab": {
          "base_uri": "https://localhost:8080/",
          "height": 202
        },
        "outputId": "f7affdbe-a40f-4fd1-899a-c194f8562a5d"
      },
      "source": [
        "import pandas as pd\n",
        "import numpy as np\n",
        "import matplotlib as plt\n",
        "df=pd.read_csv(\"spindle.csv\")\n",
        "fruit=pd.DataFrame(df)\n",
        "fruit"
      ],
      "execution_count": 79,
      "outputs": [
        {
          "output_type": "execute_result",
          "data": {
            "text/html": [
              "<div>\n",
              "<style scoped>\n",
              "    .dataframe tbody tr th:only-of-type {\n",
              "        vertical-align: middle;\n",
              "    }\n",
              "\n",
              "    .dataframe tbody tr th {\n",
              "        vertical-align: top;\n",
              "    }\n",
              "\n",
              "    .dataframe thead th {\n",
              "        text-align: right;\n",
              "    }\n",
              "</style>\n",
              "<table border=\"1\" class=\"dataframe\">\n",
              "  <thead>\n",
              "    <tr style=\"text-align: right;\">\n",
              "      <th></th>\n",
              "      <th>Colour</th>\n",
              "      <th>Diameter</th>\n",
              "      <th>Lablel</th>\n",
              "    </tr>\n",
              "  </thead>\n",
              "  <tbody>\n",
              "    <tr>\n",
              "      <th>0</th>\n",
              "      <td>Green</td>\n",
              "      <td>3</td>\n",
              "      <td>apple</td>\n",
              "    </tr>\n",
              "    <tr>\n",
              "      <th>1</th>\n",
              "      <td>yellow</td>\n",
              "      <td>3</td>\n",
              "      <td>apple</td>\n",
              "    </tr>\n",
              "    <tr>\n",
              "      <th>2</th>\n",
              "      <td>red</td>\n",
              "      <td>1</td>\n",
              "      <td>grape</td>\n",
              "    </tr>\n",
              "    <tr>\n",
              "      <th>3</th>\n",
              "      <td>red</td>\n",
              "      <td>1</td>\n",
              "      <td>grape</td>\n",
              "    </tr>\n",
              "    <tr>\n",
              "      <th>4</th>\n",
              "      <td>yellow</td>\n",
              "      <td>3</td>\n",
              "      <td>lemon</td>\n",
              "    </tr>\n",
              "  </tbody>\n",
              "</table>\n",
              "</div>"
            ],
            "text/plain": [
              "   Colour  Diameter Lablel\n",
              "0   Green         3  apple\n",
              "1  yellow         3  apple\n",
              "2     red         1  grape\n",
              "3     red         1  grape\n",
              "4  yellow         3  lemon"
            ]
          },
          "metadata": {
            "tags": []
          },
          "execution_count": 79
        }
      ]
    },
    {
      "cell_type": "code",
      "metadata": {
        "id": "6WZu5WfFuIsG",
        "colab_type": "code",
        "colab": {}
      },
      "source": [
        "#convert nonnumeric to numeric data\n",
        "#make a dictionary for the output value \n",
        "d={'apple':0,'grape':1,'lemon':2}\n",
        "fruit['Lablel']=fruit['Lablel'].map(d)\n",
        "c={'Green':0,'yellow':1,'red':2}\n",
        "fruit['Colour']=fruit['Colour'].map(c)"
      ],
      "execution_count": 80,
      "outputs": []
    },
    {
      "cell_type": "code",
      "metadata": {
        "id": "q-CzN4i-uLxT",
        "colab_type": "code",
        "colab": {
          "base_uri": "https://localhost:8080/",
          "height": 89
        },
        "outputId": "ee749802-244b-4eb9-e10d-7e8c3efea5c2"
      },
      "source": [
        "fruit.dtypes"
      ],
      "execution_count": 81,
      "outputs": [
        {
          "output_type": "execute_result",
          "data": {
            "text/plain": [
              "Colour      int64\n",
              "Diameter    int64\n",
              "Lablel      int64\n",
              "dtype: object"
            ]
          },
          "metadata": {
            "tags": []
          },
          "execution_count": 81
        }
      ]
    },
    {
      "cell_type": "code",
      "metadata": {
        "id": "EDWoGvvn7F5E",
        "colab_type": "code",
        "colab": {
          "base_uri": "https://localhost:8080/",
          "height": 202
        },
        "outputId": "2ba4083e-f38c-49f6-a129-5b8134f5831b"
      },
      "source": [
        "fruit"
      ],
      "execution_count": 82,
      "outputs": [
        {
          "output_type": "execute_result",
          "data": {
            "text/html": [
              "<div>\n",
              "<style scoped>\n",
              "    .dataframe tbody tr th:only-of-type {\n",
              "        vertical-align: middle;\n",
              "    }\n",
              "\n",
              "    .dataframe tbody tr th {\n",
              "        vertical-align: top;\n",
              "    }\n",
              "\n",
              "    .dataframe thead th {\n",
              "        text-align: right;\n",
              "    }\n",
              "</style>\n",
              "<table border=\"1\" class=\"dataframe\">\n",
              "  <thead>\n",
              "    <tr style=\"text-align: right;\">\n",
              "      <th></th>\n",
              "      <th>Colour</th>\n",
              "      <th>Diameter</th>\n",
              "      <th>Lablel</th>\n",
              "    </tr>\n",
              "  </thead>\n",
              "  <tbody>\n",
              "    <tr>\n",
              "      <th>0</th>\n",
              "      <td>0</td>\n",
              "      <td>3</td>\n",
              "      <td>0</td>\n",
              "    </tr>\n",
              "    <tr>\n",
              "      <th>1</th>\n",
              "      <td>1</td>\n",
              "      <td>3</td>\n",
              "      <td>0</td>\n",
              "    </tr>\n",
              "    <tr>\n",
              "      <th>2</th>\n",
              "      <td>2</td>\n",
              "      <td>1</td>\n",
              "      <td>1</td>\n",
              "    </tr>\n",
              "    <tr>\n",
              "      <th>3</th>\n",
              "      <td>2</td>\n",
              "      <td>1</td>\n",
              "      <td>1</td>\n",
              "    </tr>\n",
              "    <tr>\n",
              "      <th>4</th>\n",
              "      <td>1</td>\n",
              "      <td>3</td>\n",
              "      <td>2</td>\n",
              "    </tr>\n",
              "  </tbody>\n",
              "</table>\n",
              "</div>"
            ],
            "text/plain": [
              "   Colour  Diameter  Lablel\n",
              "0       0         3       0\n",
              "1       1         3       0\n",
              "2       2         1       1\n",
              "3       2         1       1\n",
              "4       1         3       2"
            ]
          },
          "metadata": {
            "tags": []
          },
          "execution_count": 82
        }
      ]
    },
    {
      "cell_type": "code",
      "metadata": {
        "id": "Yb-FHGt6s026",
        "colab_type": "code",
        "colab": {}
      },
      "source": [
        "#this will be the trainnig data\n",
        "training_data=[[\"green\",3,\"apple\"],\n",
        "               [\"yellow\",3,\"apple\"],\n",
        "               [\"red\",1,\"grape\"],\n",
        "               [\"red\",1,\"grape\"],\n",
        "               [\"yellow\",3,\"lemon\"]]"
      ],
      "execution_count": 83,
      "outputs": []
    },
    {
      "cell_type": "code",
      "metadata": {
        "id": "-MMrivLZtZAU",
        "colab_type": "code",
        "colab": {}
      },
      "source": [
        "#the column lable for the tabel will be \n",
        "column=[\"colour\",\"diameter\",\"label\"]\n"
      ],
      "execution_count": 84,
      "outputs": []
    },
    {
      "cell_type": "code",
      "metadata": {
        "id": "mMghRKYdu7mc",
        "colab_type": "code",
        "colab": {}
      },
      "source": [
        "#this is a function to determinne the count of each target column\n",
        "def count(rows):\n",
        "  counts={}     #declare an empty dictionary to store the value \n",
        "  for row in rows:\n",
        "    label=row[-1]\n",
        "    if label not in counts:\n",
        "      counts[label]=0\n",
        "    counts[label]+=1\n",
        "  return counts\n",
        "def is_numeric(value):\n",
        "    return isinstance(value, int) or isinstance(value, float)"
      ],
      "execution_count": 85,
      "outputs": []
    },
    {
      "cell_type": "code",
      "metadata": {
        "id": "nYFlzUceyj0r",
        "colab_type": "code",
        "colab": {}
      },
      "source": [
        "#this is to create a question for the desicion node \n",
        "#a function is writen for our undersatanding format\n",
        "class Question:\n",
        "    def __init__(self, column, value):\n",
        "        self.column = column\n",
        "        self.value = value\n",
        "\n",
        "    def match(self, example):\n",
        "        val = example[self.column]\n",
        "        if is_numeric(val):\n",
        "            return val >= self.value\n",
        "        else:\n",
        "            return val == self.value\n",
        "\n",
        "    def __repr__(self):         #this function is for our undersatanding \n",
        "        condition = \"==\"\n",
        "        if is_numeric(self.value):\n",
        "            condition = \">=\"\n",
        "        return \"Is %s %s %s?\" % (\n",
        "            column[self.column], condition, str(self.value))"
      ],
      "execution_count": 86,
      "outputs": []
    },
    {
      "cell_type": "code",
      "metadata": {
        "id": "W_QCwByywHSx",
        "colab_type": "code",
        "colab": {}
      },
      "source": [
        "#this is to create the right and left of the tree \n",
        "#right side of the root is represented as true_row\n",
        "#left side of the root is represneted as false_row\n",
        "def partition(rows, question):\n",
        "    true_rows, false_rows = [], []\n",
        "    for row in rows:\n",
        "        if question.match(row):\n",
        "            true_rows.append(row)\n",
        "        else:\n",
        "            false_rows.append(row)\n",
        "    return true_rows, false_rows"
      ],
      "execution_count": 87,
      "outputs": []
    },
    {
      "cell_type": "code",
      "metadata": {
        "id": "NGo4MIArtzO0",
        "colab_type": "code",
        "colab": {}
      },
      "source": [
        "#function to find the gini index \n",
        "#formula for gini : 1-((p/n)2-(p/n)2)             where n is the total number in the data set \n",
        "def gini(rows):\n",
        "  counts=count(rows)\n",
        "  impurity = 1\n",
        "  for lbl in counts:\n",
        "       prob_of_lbl = counts[lbl] / float(len(rows))\n",
        "       impurity -= prob_of_lbl**2\n",
        "  return impurity"
      ],
      "execution_count": 88,
      "outputs": []
    },
    {
      "cell_type": "code",
      "metadata": {
        "id": "n338_y0XzCJO",
        "colab_type": "code",
        "colab": {}
      },
      "source": [
        "#the we have to find the gain so \n",
        "#gain=(p/n)*calculated gini + (p/n)*calculated gini\n",
        "def info_gain(left, right, current_uncertainty):\n",
        "    p = float(len(left)) / (len(left) + len(right))\n",
        "    return current_uncertainty - p * gini(left) - (1 - p) * gini(right)"
      ],
      "execution_count": 89,
      "outputs": []
    },
    {
      "cell_type": "code",
      "metadata": {
        "id": "jHA6jOng2d_I",
        "colab_type": "code",
        "colab": {}
      },
      "source": [
        "def find_best_split(rows):\n",
        "    best_gain = 0  \n",
        "    best_question = None \n",
        "    current_uncertainty = gini(rows)\n",
        "    n_features = len(rows[0]) - 1  \n",
        "    for col in range(n_features):  \n",
        "        values = set([row[col] for row in rows]) \n",
        "        for val in values: \n",
        "            question = Question(col, val)\n",
        "            true_rows, false_rows = partition(rows, question)\n",
        "            if len(true_rows) == 0 or len(false_rows) == 0:\n",
        "                continue\n",
        "            gain = info_gain(true_rows, false_rows, current_uncertainty)\n",
        "            if gain >= best_gain:\n",
        "                best_gain, best_question = gain, question\n",
        "    return best_gain, best_question"
      ],
      "execution_count": 90,
      "outputs": []
    },
    {
      "cell_type": "markdown",
      "metadata": {
        "id": "A-aCl51C1Pmq",
        "colab_type": "text"
      },
      "source": [
        "#This part is for the construction of the tree\n"
      ]
    },
    {
      "cell_type": "code",
      "metadata": {
        "id": "GjFbAxkO1T5U",
        "colab_type": "code",
        "colab": {}
      },
      "source": [
        "class Leaf:\n",
        "    def __init__(self, rows):\n",
        "        self.predictions = count(rows)"
      ],
      "execution_count": 91,
      "outputs": []
    },
    {
      "cell_type": "code",
      "metadata": {
        "id": "K6btqotM1ZTZ",
        "colab_type": "code",
        "colab": {}
      },
      "source": [
        "class Decision_Node:\n",
        "    def __init__(self,question,true_branch,false_branch):\n",
        "        self.question = question\n",
        "        self.true_branch = true_branch\n",
        "        self.false_branch = false_branch"
      ],
      "execution_count": 92,
      "outputs": []
    },
    {
      "cell_type": "code",
      "metadata": {
        "id": "1WCwJPhV1hy4",
        "colab_type": "code",
        "colab": {}
      },
      "source": [
        "#This is to build a tree \n",
        "def build_tree(rows):\n",
        "    gain, question = find_best_split(rows)\n",
        "    if gain == 0:\n",
        "        return Leaf(rows)\n",
        "    true_rows, false_rows = partition(rows, question)\n",
        "    true_branch = build_tree(true_rows)\n",
        "    false_branch = build_tree(false_rows)\n",
        "    return Decision_Node(question, true_branch, false_branch)"
      ],
      "execution_count": 93,
      "outputs": []
    },
    {
      "cell_type": "code",
      "metadata": {
        "id": "v8AkA0lk1vMK",
        "colab_type": "code",
        "colab": {}
      },
      "source": [
        "#This is to print in the form of tree\n",
        "def print_tree(node, spacing=\"\"):\n",
        "    if isinstance(node, Leaf):      #this is to check the wether it is a leaf node \n",
        "        print (spacing + \"Predict\", node.predictions)\n",
        "        return\n",
        "    print (spacing + str(node.question))\n",
        "    print (spacing + '--> True:')\n",
        "    print_tree(node.true_branch, spacing + \"  \")\n",
        "    print (spacing + '--> False:')\n",
        "    print_tree(node.false_branch, spacing + \"  \")"
      ],
      "execution_count": 94,
      "outputs": []
    },
    {
      "cell_type": "code",
      "metadata": {
        "id": "aYhTGsGV16pY",
        "colab_type": "code",
        "colab": {}
      },
      "source": [
        "friut_classifier = build_tree(training_data)"
      ],
      "execution_count": 95,
      "outputs": []
    },
    {
      "cell_type": "code",
      "metadata": {
        "id": "dvrb_B3B2Ap3",
        "colab_type": "code",
        "colab": {
          "base_uri": "https://localhost:8080/",
          "height": 179
        },
        "outputId": "84a0e7be-6b6b-4a4b-bdc7-7a1b7d87bc4a"
      },
      "source": [
        "print_tree(friut_classifier)"
      ],
      "execution_count": 96,
      "outputs": [
        {
          "output_type": "stream",
          "text": [
            "Is diameter >= 3?\n",
            "--> True:\n",
            "  Is colour == yellow?\n",
            "  --> True:\n",
            "    Predict {'apple': 1, 'lemon': 1}\n",
            "  --> False:\n",
            "    Predict {'apple': 1}\n",
            "--> False:\n",
            "  Predict {'grape': 2}\n"
          ],
          "name": "stdout"
        }
      ]
    }
  ]
}